{
 "cells": [
  {
   "cell_type": "code",
   "execution_count": null,
   "id": "d01bab7f",
   "metadata": {},
   "outputs": [],
   "source": [
    "import pycolmap\n",
    "from pathlib import Path\n",
    "import numpy as np\n",
    "from collections import defaultdict\n",
    "import h5py\n",
    "import matplotlib.pyplot as plt\n",
    "import seaborn as sns\n",
    "from hloc.utils.io import list_h5_names, get_matches, get_keypoints\n",
    "from hloc.visualization import plot_images, plot_keypoints, plot_matches, read_image, add_text, cm_RdGn"
   ]
  },
  {
   "cell_type": "code",
   "execution_count": null,
   "id": "5e10697a",
   "metadata": {},
   "outputs": [],
   "source": [
    "DIR = \"../image-matching-challenge-2023\"\n",
    "MODE = \"train\"\n",
    "NAME = \"sift+NN\"\n",
    "dataset = \"heritage\"\n",
    "scene = \"cyprus\""
   ]
  },
  {
   "cell_type": "code",
   "execution_count": null,
   "id": "9ba16273",
   "metadata": {},
   "outputs": [],
   "source": [
    "scene_dir = Path(f\"../outputs/{NAME}/{dataset}/{scene}\")\n",
    "\n",
    "images = Path(f\"{DIR}/{MODE}/{dataset}/{scene}/images\")\n",
    "\n",
    "features = scene_dir / \"features.h5\"\n",
    "matches = scene_dir / \"matches.h5\""
   ]
  },
  {
   "cell_type": "code",
   "execution_count": null,
   "id": "bd816c6f",
   "metadata": {},
   "outputs": [],
   "source": [
    "image_names = sorted(list_h5_names(features))\n",
    "pairs = sorted(list_h5_names(matches))"
   ]
  },
  {
   "cell_type": "code",
   "execution_count": null,
   "id": "91931db6",
   "metadata": {},
   "outputs": [],
   "source": [
    "plot_images([read_image(images / imname) for imname in image_names[:4]])"
   ]
  },
  {
   "cell_type": "code",
   "execution_count": null,
   "id": "b6d3d258",
   "metadata": {},
   "outputs": [],
   "source": [
    "match_matrix = -np.ones([len(image_names), len(image_names)])\n",
    "for pair in pairs:\n",
    "    name0, name1 = pair.split(\"/\")\n",
    "    idx0, idx1 = image_names.index(name0), image_names.index(name1)\n",
    "    m, sc = get_matches(matches, name0, name1)\n",
    "    match_matrix[idx0, idx1] = match_matrix[idx1, idx0] = m.shape[0]\n",
    "\n",
    "ax = sns.heatmap(match_matrix, linewidth=0.0, cmap=\"hot\", mask=match_matrix < 0)"
   ]
  },
  {
   "cell_type": "code",
   "execution_count": null,
   "id": "67842fb4",
   "metadata": {},
   "outputs": [],
   "source": [
    "total = (match_matrix * (match_matrix > 0)).sum(-1)\n",
    "ax = sns.barplot(x=list(range(len(image_names))), y=total)\n",
    "ax.set_title('total number of matches per image')"
   ]
  },
  {
   "cell_type": "code",
   "execution_count": null,
   "id": "aadf6380",
   "metadata": {},
   "outputs": [],
   "source": [
    "# 4 images with least amount of matches\n",
    "ksmallest = np.argsort(total)[:4]\n",
    "fig = plot_images([read_image(images / image_names[j]) for j in ksmallest], titles=[image_names[j] for j in ksmallest])\n",
    "[add_text(i, f'matches: {total[j]}') for i, j in enumerate(ksmallest)];"
   ]
  },
  {
   "cell_type": "code",
   "execution_count": null,
   "id": "cc3c5252",
   "metadata": {
    "scrolled": false
   },
   "outputs": [],
   "source": [
    "# print top-pair for each of above image\n",
    "for j in ksmallest:\n",
    "    name0 = image_names[j]\n",
    "    name1 = image_names[np.argmax(match_matrix[j])]\n",
    "    plot_images([read_image(images / name0), read_image(images / name1)])\n",
    "    kp0, kp1 = get_keypoints(features, name0), get_keypoints(features, name1)\n",
    "    m, sc = get_matches(matches, name0, name1)\n",
    "    plot_matches(kp0[m[:,0]], kp1[m[:,1]])\n",
    "    add_text(0, f'num matches: {m.shape[0]}')\n",
    "    add_text(0, name0, pos=(0.01, 0.05))\n",
    "    add_text(1, name1, pos=(0.01, 0.05))"
   ]
  },
  {
   "cell_type": "code",
   "execution_count": null,
   "id": "2db705b0",
   "metadata": {},
   "outputs": [],
   "source": []
  }
 ],
 "metadata": {
  "kernelspec": {
   "display_name": "Python [conda env:root] *",
   "language": "python",
   "name": "conda-root-py"
  },
  "language_info": {
   "codemirror_mode": {
    "name": "ipython",
    "version": 3
   },
   "file_extension": ".py",
   "mimetype": "text/x-python",
   "name": "python",
   "nbconvert_exporter": "python",
   "pygments_lexer": "ipython3",
   "version": "3.9.12"
  }
 },
 "nbformat": 4,
 "nbformat_minor": 5
}
